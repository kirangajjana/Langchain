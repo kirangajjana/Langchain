{
 "cells": [
  {
   "cell_type": "code",
   "execution_count": 2,
   "metadata": {},
   "outputs": [],
   "source": [
    "import os"
   ]
  },
  {
   "cell_type": "code",
   "execution_count": 3,
   "metadata": {},
   "outputs": [],
   "source": [
    "import warnings\n",
    "warnings.filterwarnings(\"ignore\")"
   ]
  },
  {
   "cell_type": "code",
   "execution_count": 4,
   "metadata": {},
   "outputs": [],
   "source": [
    "from dotenv import load_dotenv"
   ]
  },
  {
   "cell_type": "code",
   "execution_count": 5,
   "metadata": {},
   "outputs": [
    {
     "data": {
      "text/plain": [
       "True"
      ]
     },
     "execution_count": 5,
     "metadata": {},
     "output_type": "execute_result"
    }
   ],
   "source": [
    "load_dotenv()"
   ]
  },
  {
   "cell_type": "code",
   "execution_count": 6,
   "metadata": {},
   "outputs": [],
   "source": [
    "from langchain_core.messages import HumanMessage,SystemMessage"
   ]
  },
  {
   "cell_type": "code",
   "execution_count": 7,
   "metadata": {},
   "outputs": [],
   "source": [
    "from langchain_google_genai import ChatGoogleGenerativeAI"
   ]
  },
  {
   "cell_type": "code",
   "execution_count": 8,
   "metadata": {},
   "outputs": [],
   "source": [
    "model=ChatGoogleGenerativeAI(model=\"gemini-pro\",temperature=0,convert_system_message_to_human=True)"
   ]
  },
  {
   "cell_type": "code",
   "execution_count": 9,
   "metadata": {},
   "outputs": [],
   "source": [
    "message=[SystemMessage(content=\"You are a friendly assistant who provides me gym updates.\"),HumanMessage(content=\"hi can you tell me step by step gym workout plan for a week\")]"
   ]
  },
  {
   "cell_type": "code",
   "execution_count": 10,
   "metadata": {},
   "outputs": [
    {
     "data": {
      "text/plain": [
       "AIMessage(content='**Day 1: Upper Body (Push)**\\n\\n* Barbell bench press: 3 sets of 8-12 reps\\n* Incline dumbbell press: 3 sets of 8-12 reps\\n* Overhead press: 3 sets of 8-12 reps\\n* Triceps pushdowns: 3 sets of 10-15 reps\\n* Lateral raises: 3 sets of 10-15 reps\\n\\n**Day 2: Lower Body (Squats)**\\n\\n* Barbell back squat: 3 sets of 8-12 reps\\n* Leg press: 3 sets of 8-12 reps\\n* Hamstring curls: 3 sets of 10-15 reps\\n* Calf raises: 3 sets of 15-20 reps\\n\\n**Day 3: Rest**\\n\\n**Day 4: Upper Body (Pull)**\\n\\n* Barbell row: 3 sets of 8-12 reps\\n* Pull-ups: 3 sets of 8-12 reps\\n* Lat pulldowns: 3 sets of 10-15 reps\\n* Bicep curls: 3 sets of 10-15 reps\\n* Hammer curls: 3 sets of 10-15 reps\\n\\n**Day 5: Lower Body (Deadlifts)**\\n\\n* Barbell deadlift: 3 sets of 8-12 reps\\n* Romanian deadlifts: 3 sets of 10-15 reps\\n* Glute bridges: 3 sets of 10-15 reps\\n* Calf raises: 3 sets of 15-20 reps\\n\\n**Day 6: Rest**\\n\\n**Day 7: Active Recovery**\\n\\n* Go for a walk, run, or bike ride\\n* Do some light yoga or stretching\\n* Play a sport or engage in other recreational activities\\n\\n**Tips:**\\n\\n* Warm up before each workout with 5-10 minutes of light cardio and dynamic stretching.\\n* Cool down after each workout with 5-10 minutes of static stretching.\\n* Choose weights that challenge you while maintaining good form.\\n* Rest for 1-2 minutes between sets.\\n* Listen to your body and take rest days when needed.\\n* Stay hydrated by drinking plenty of water throughout the day.\\n* Eat a healthy diet that supports your fitness goals.', additional_kwargs={}, response_metadata={'prompt_feedback': {'block_reason': 0, 'safety_ratings': []}, 'finish_reason': 'STOP', 'safety_ratings': [{'category': 'HARM_CATEGORY_SEXUALLY_EXPLICIT', 'probability': 'NEGLIGIBLE', 'blocked': False}, {'category': 'HARM_CATEGORY_HATE_SPEECH', 'probability': 'NEGLIGIBLE', 'blocked': False}, {'category': 'HARM_CATEGORY_HARASSMENT', 'probability': 'NEGLIGIBLE', 'blocked': False}, {'category': 'HARM_CATEGORY_DANGEROUS_CONTENT', 'probability': 'NEGLIGIBLE', 'blocked': False}]}, id='run-de153038-35e1-4ad4-bad8-e933d140efcb-0', usage_metadata={'input_tokens': 26, 'output_tokens': 503, 'total_tokens': 529})"
      ]
     },
     "execution_count": 10,
     "metadata": {},
     "output_type": "execute_result"
    }
   ],
   "source": [
    "model.invoke(message)"
   ]
  },
  {
   "cell_type": "code",
   "execution_count": 11,
   "metadata": {},
   "outputs": [],
   "source": [
    "from langchain_core.output_parsers import StrOutputParser"
   ]
  },
  {
   "cell_type": "code",
   "execution_count": 12,
   "metadata": {},
   "outputs": [],
   "source": [
    "parser = StrOutputParser()"
   ]
  },
  {
   "cell_type": "code",
   "execution_count": 13,
   "metadata": {},
   "outputs": [],
   "source": [
    "response = model.invoke(message)"
   ]
  },
  {
   "cell_type": "code",
   "execution_count": 14,
   "metadata": {},
   "outputs": [
    {
     "data": {
      "text/plain": [
       "'**Day 1: Upper Body (Push)**\\n\\n* Barbell bench press: 3 sets of 8-12 reps\\n* Incline dumbbell press: 3 sets of 8-12 reps\\n* Overhead press: 3 sets of 8-12 reps\\n* Triceps pushdowns: 3 sets of 10-15 reps\\n* Lateral raises: 3 sets of 10-15 reps\\n\\n**Day 2: Lower Body (Squats)**\\n\\n* Barbell back squat: 3 sets of 8-12 reps\\n* Leg press: 3 sets of 8-12 reps\\n* Hamstring curls: 3 sets of 10-15 reps\\n* Calf raises: 3 sets of 15-20 reps\\n\\n**Day 3: Rest**\\n\\n**Day 4: Upper Body (Pull)**\\n\\n* Barbell row: 3 sets of 8-12 reps\\n* Pull-ups: 3 sets of 8-12 reps\\n* Lat pulldowns: 3 sets of 10-15 reps\\n* Bicep curls: 3 sets of 10-15 reps\\n* Hammer curls: 3 sets of 10-15 reps\\n\\n**Day 5: Lower Body (Deadlifts)**\\n\\n* Barbell deadlift: 3 sets of 8-12 reps\\n* Romanian deadlifts: 3 sets of 10-15 reps\\n* Glute bridges: 3 sets of 10-15 reps\\n* Calf raises: 3 sets of 15-20 reps\\n\\n**Day 6: Rest**\\n\\n**Day 7: Active Recovery**\\n\\n* Go for a walk, run, or bike ride\\n* Do some light yoga or stretching\\n* Play a sport or engage in other recreational activities\\n\\n**Tips:**\\n\\n* Warm up before each workout with 5-10 minutes of light cardio and dynamic stretching.\\n* Cool down after each workout with 5-10 minutes of static stretching.\\n* Choose weights that challenge you while maintaining good form.\\n* Rest for 1-2 minutes between sets.\\n* Listen to your body and take rest days when needed.\\n* Stay hydrated by drinking plenty of water throughout the day.\\n* Eat a healthy diet that supports your fitness goals.'"
      ]
     },
     "execution_count": 14,
     "metadata": {},
     "output_type": "execute_result"
    }
   ],
   "source": [
    "parser.invoke(response)"
   ]
  },
  {
   "cell_type": "code",
   "execution_count": 15,
   "metadata": {},
   "outputs": [],
   "source": [
    "chain=model|parser"
   ]
  },
  {
   "cell_type": "code",
   "execution_count": 16,
   "metadata": {},
   "outputs": [
    {
     "data": {
      "text/plain": [
       "'**Day 1: Upper Body (Push)**\\n\\n* Barbell bench press: 3 sets of 8-12 reps\\n* Incline dumbbell press: 3 sets of 8-12 reps\\n* Overhead press: 3 sets of 8-12 reps\\n* Triceps pushdowns: 3 sets of 10-15 reps\\n* Lateral raises: 3 sets of 10-15 reps\\n\\n**Day 2: Lower Body (Squats)**\\n\\n* Barbell back squat: 3 sets of 8-12 reps\\n* Leg press: 3 sets of 8-12 reps\\n* Hamstring curls: 3 sets of 10-15 reps\\n* Calf raises: 3 sets of 15-20 reps\\n\\n**Day 3: Rest**\\n\\n**Day 4: Upper Body (Pull)**\\n\\n* Barbell row: 3 sets of 8-12 reps\\n* Pull-ups: 3 sets of 8-12 reps\\n* Lat pulldowns: 3 sets of 10-15 reps\\n* Bicep curls: 3 sets of 10-15 reps\\n* Hammer curls: 3 sets of 10-15 reps\\n\\n**Day 5: Lower Body (Deadlifts)**\\n\\n* Barbell deadlift: 3 sets of 8-12 reps\\n* Romanian deadlifts: 3 sets of 10-15 reps\\n* Glute bridges: 3 sets of 10-15 reps\\n* Calf raises: 3 sets of 15-20 reps\\n\\n**Day 6: Rest**\\n\\n**Day 7: Active Recovery**\\n\\n* Go for a walk, run, or bike ride\\n* Do some light yoga or stretching\\n* Play a sport or engage in other recreational activities\\n\\n**Tips:**\\n\\n* Warm up before each workout with 5-10 minutes of light cardio and dynamic stretching.\\n* Cool down after each workout with 5-10 minutes of static stretching.\\n* Choose weights that challenge you while maintaining good form.\\n* Rest for 1-2 minutes between sets.\\n* Listen to your body and take rest days when needed.\\n* Stay hydrated by drinking plenty of water throughout the day.\\n* Eat a healthy diet that supports your fitness goals.'"
      ]
     },
     "execution_count": 16,
     "metadata": {},
     "output_type": "execute_result"
    }
   ],
   "source": [
    "chain.invoke(message)"
   ]
  },
  {
   "cell_type": "code",
   "execution_count": 17,
   "metadata": {},
   "outputs": [],
   "source": [
    "from langchain_core.prompts import ChatPromptTemplate"
   ]
  },
  {
   "cell_type": "code",
   "execution_count": 18,
   "metadata": {},
   "outputs": [],
   "source": [
    "system=\"translate the following into {language}\""
   ]
  },
  {
   "cell_type": "code",
   "execution_count": 19,
   "metadata": {},
   "outputs": [],
   "source": [
    "prompt_template = ChatPromptTemplate.from_messages(\n",
    "    [(\"system\",\"translate the following into {language}\"),\n",
    "     (\"user\",\"{text}\")]\n",
    ")"
   ]
  },
  {
   "cell_type": "code",
   "execution_count": 20,
   "metadata": {},
   "outputs": [],
   "source": [
    "chain = prompt_template | model | parser"
   ]
  },
  {
   "cell_type": "code",
   "execution_count": 22,
   "metadata": {},
   "outputs": [
    {
     "data": {
      "text/plain": [
       "'నేను డేటా సైంటిస్ట్, నేను డేటాతో ఆడుకుంటాను'"
      ]
     },
     "execution_count": 22,
     "metadata": {},
     "output_type": "execute_result"
    }
   ],
   "source": [
    "chain.invoke({\"language\": \"telugu\", \"text\": \"i am an data scientist,i play with data\"})"
   ]
  },
  {
   "cell_type": "code",
   "execution_count": null,
   "metadata": {},
   "outputs": [],
   "source": [
    "#haii hello "
   ]
  }
 ],
 "metadata": {
  "kernelspec": {
   "display_name": "myenv",
   "language": "python",
   "name": "python3"
  },
  "language_info": {
   "codemirror_mode": {
    "name": "ipython",
    "version": 3
   },
   "file_extension": ".py",
   "mimetype": "text/x-python",
   "name": "python",
   "nbconvert_exporter": "python",
   "pygments_lexer": "ipython3",
   "version": "3.12.6"
  }
 },
 "nbformat": 4,
 "nbformat_minor": 2
}
